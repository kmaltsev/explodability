{
 "cells": [
  {
   "cell_type": "code",
   "execution_count": 5,
   "metadata": {},
   "outputs": [
    {
     "name": "stderr",
     "output_type": "stream",
     "text": [
      "Matplotlib is building the font cache; this may take a moment.\n"
     ]
    }
   ],
   "source": [
    "import pandas as pd\n",
    "from matplotlib import pylab as plt\n",
    "import numpy as np\n",
    "import random"
   ]
  },
  {
   "cell_type": "markdown",
   "metadata": {},
   "source": [
    "## About:\n",
    "This notebook presents the core collapse supernova (CCSN) recipe from [Maltsev et al. (submitted)](https://arxiv.org/). It predicts the **final fate** (*failed* or *successful SN*) and **remnant type** (*neutron star* or *black hole*) of massive single and binary-stripped stars that undergo iron-core collapse at the end of their evolution. Using the recipe, these predictions can be made already at the end of core helium burning. Since the recipe is analytical and therefore fast-to-evaluate, it is applicable for rapid binary population synthesis and other studies at scale. "
   ]
  },
  {
   "cell_type": "markdown",
   "metadata": {},
   "source": [
    "## How to use the CCSN recipe?\n",
    "As input, the recipe requires the carbon-oxygen core mass, $M_\\mathrm{CO}$ (in solar mass units $M_\\odot$), the zero-age-main-sequence (ZAMS) metallicity $Z$ (in solar metallicity units $Z_\\odot = 0.001432$ following [Asplund et al. 2019](https://ui.adsabs.harvard.edu/abs/2009ARA%26A..47..481A/abstract)) and mass transfer history class (*None, Case A, Case B* or *Case C*). Its integer output encodes the final fate and distinguishes the neutron star (NS) versus black hole (BH) remnants using the following convention:\n",
    "- 0: *failed SN, BH formation by direct collapse*\n",
    "- 1: *successful SN, NS formation* \n",
    "- 2: *sucessful SN, BH formation by fallback*.\n",
    "\n",
    "The mass transfer history class of the CCSN progenitor is assigned using the following convention:\n",
    "- None: *single star*\n",
    "- A: *Case A* \n",
    "- B: *Case B*\n",
    "- C: *Case C*."
   ]
  },
  {
   "cell_type": "markdown",
   "metadata": {},
   "source": [
    "## Outline\n",
    "First, the parameters, methods and routines that the recipe depends upon are defined here. Second, it is shown how to use the recipe upon a few examples. Third, we generate plots showing compact remnant type landscapes from the evolution from massive single and binary-stripped stars. Before applying the recipe in any astrophysical code, we strongly advise to verify consistency by a qualitative reproduction of these plots. Forth, we explain how the CCSN recipe works. Finally, we add a few practical remarks on what to take care of when applying the recipe regarding mass transfer history class assignent, the breakdown of the recipe, and the prediction of compact remnant and SN properties.\n",
    "\n",
    "<ins>Table of Contents </ins>:\n",
    "1. Parameters and dependencies\n",
    "2. Examples\n",
    "3. Plots\n",
    "4. How does the CCSN recipe work?\n",
    "5. Practical remarks on application of the recipe"
   ]
  },
  {
   "cell_type": "markdown",
   "metadata": {},
   "source": [
    "## 1. Parameters and dependencies:\n",
    "All the internal parameters of the recipe, methods and plotting routines are included in this notebook. These are defined below:"
   ]
  },
  {
   "cell_type": "markdown",
   "metadata": {},
   "source": [
    "### parameters:"
   ]
  },
  {
   "cell_type": "code",
   "execution_count": 11,
   "metadata": {},
   "outputs": [],
   "source": [
    "# minimal and maximal CO core mass for guaranteed successful and failed SN outcomes, respectively\n",
    "mco_min, mco_max = 5.62, 16.18\n",
    "\n",
    "# threshold values in CO core mass for failed SN outcomes at Zsun\n",
    "mco_explodz = pd.DataFrame(columns = ['MCO1', 'MCO2', 'MCO3'])\n",
    "mco_explodz.loc['None', :] = 6.6, 7.2, 13.0\n",
    "mco_explodz.loc['C', :] = 6.6, 7.1, 13.2\n",
    "mco_explodz.loc['B', :] = 7.7, 8.3, 15.2\n",
    "mco_explodz.loc['A', :] = 7.4, 8.4, 15.4\n",
    "\n",
    "# ... and at Zsun/10\n",
    "mco_explodz10 = pd.DataFrame(columns = ['MCO1', 'MCO2', 'MCO3'])\n",
    "mco_explodz10.loc['None', :] = 6.1, 6.6, 12.9\n",
    "mco_explodz10.loc['C', :] = 6.3, 7.1, 12.3\n",
    "mco_explodz10.loc['B', :] = 6.9, 7.9, 13.7\n",
    "mco_explodz10.loc['A', :] = 6.9, 7.4, 13.7\n",
    "\n",
    "# threshold values in CO core mass for guaranteed NS formation at Zsun \n",
    "mco_nsz = pd.DataFrame(columns = ['mco_ns1', 'mco_ns2'])\n",
    "mco_nsz.loc['None',:] = 9, 10.2\n",
    "mco_nsz.loc['C',:] = 9.6, 11.7\n",
    "mco_nsz.loc['B',:] = 9.9, 10.3\n",
    "mco_nsz.loc['A',:] = 11.1, 12.1\n",
    "\n",
    "# ... and at Zsun/10\n",
    "mco_nsz10 = pd.DataFrame(columns = ['mco_ns1', 'mco_ns2'])\n",
    "mco_nsz10.loc['None'] = 7.4, 11\n",
    "mco_nsz10.loc['C'] = 8.9, 9.5\n",
    "mco_nsz10.loc['B'] = 9.3, 10.3\n",
    "mco_nsz10.loc['A'] = 10.4, 11.1"
   ]
  },
  {
   "cell_type": "markdown",
   "metadata": {},
   "source": [
    "### methods:"
   ]
  },
  {
   "cell_type": "code",
   "execution_count": 27,
   "metadata": {},
   "outputs": [],
   "source": [
    "# linear log(Z) scaling law for Z-dependence of CO core mass thresholds\n",
    "def mco_crit_Z_dep(m, b, x):\n",
    "    return  b+x*m\n",
    "def connect_line(a_1, a_2):\n",
    "    m = a_1 - a_2 \n",
    "    b = a_1  \n",
    "    return m, b\n",
    "\n",
    "# determination of parameters (m and b) of the logZ scaling model\n",
    "def fit_params(MT_class, mco_explodz, mco_explodz10, mco_nsz, mco_nsz10):    \n",
    "    \n",
    "    # direct BH formation boundaries for single-stars at Zsolar\n",
    "    Z_lower, Z_upper, Z_plateau = mco_explodz['MCO1'][MT_class], mco_explodz['MCO2'][MT_class], mco_explodz['MCO3'][MT_class]\n",
    "\n",
    "    # direct BH formation boundaries for single-stars at Zsolar/10\n",
    "    Z10_lower, Z10_upper, Z10_plateau = mco_explodz10['MCO1'][MT_class], mco_explodz10['MCO2'][MT_class], mco_explodz10['MCO3'][MT_class]\n",
    "\n",
    "    # NS formation boundaries at Zsolar and at Zsolar/10\n",
    "    Z_NS_1, Z_NS_2 = mco_nsz['mco_ns1'][MT_class], mco_nsz['mco_ns2'][MT_class]\n",
    "    Z10_NS_1, Z10_NS_2 = mco_nsz10['mco_ns1'][MT_class], mco_nsz10['mco_ns2'][MT_class]\n",
    "\n",
    "    # logZ-scaling of these windows\n",
    "    m_BH_1, b_BH_1 = connect_line(Z_lower, Z10_lower)\n",
    "    m_BH_2, b_BH_2 = connect_line(Z_upper, Z10_upper)\n",
    "    m_BH_3, b_BH_3 = connect_line(Z_plateau, Z10_plateau)\n",
    "\n",
    "    m_NS_1, b_NS_1 = connect_line(Z_NS_1, Z10_NS_1)\n",
    "    m_NS_2, b_NS_2 = connect_line(Z_NS_2, Z10_NS_2)\n",
    "\n",
    "    # saving parameters of logZ-scaling model\n",
    "    m_paramsBH = [m_BH_1, m_BH_2, m_BH_3]\n",
    "    b_paramsBH = [b_BH_1, b_BH_2, b_BH_3]\n",
    "    m_paramsNS = [m_NS_1, m_NS_2]\n",
    "    b_paramsNS = [b_NS_1, b_NS_2]\n",
    "    \n",
    "    return m_paramsBH, b_paramsBH, m_paramsNS, b_paramsNS"
   ]
  },
  {
   "cell_type": "code",
   "execution_count": 31,
   "metadata": {},
   "outputs": [],
   "source": [
    "# CCSN recipe with fallback models A and B\n",
    "def ff_mco_z_fb(mco_in, z_in, MT_class, fb_model):\n",
    "    \n",
    "    m_params_BH, b_params_BH, m_params_NS, b_params_NS = fit_params(MT_class, mco_explodz, mco_explodz10, mco_nsz, mco_nsz10)\n",
    "    \n",
    "    m_BH_1, m_BH_2, m_BH_3 = m_params_BH\n",
    "    b_BH_1, b_BH_2, b_BH_3 = b_params_BH\n",
    "    \n",
    "    m_NS_1, m_NS_2 = m_params_NS\n",
    "    b_NS_1, b_NS_2 = b_params_NS    \n",
    "    \n",
    "    mco_crit_1 = mco_crit_Z_dep(m_BH_1, b_BH_1, np.log10(z_in))\n",
    "    mco_crit_2 = mco_crit_Z_dep(m_BH_2, b_BH_2, np.log10(z_in))\n",
    "    mco_crit_3 = mco_crit_Z_dep(m_BH_3, b_BH_3, np.log10(z_in))\n",
    "    \n",
    "    mco_crit_NS1 = mco_crit_Z_dep(m_NS_1, b_NS_1, np.log10(z_in))\n",
    "    mco_crit_NS2 = mco_crit_Z_dep(m_NS_2, b_NS_2, np.log10(z_in))\n",
    "        \n",
    "    if (mco_in < mco_crit_1):\n",
    "        ff = 1    \n",
    "    elif (mco_in >= mco_crit_1) and (mco_in <= mco_crit_2):\n",
    "        ff = 0\n",
    "    elif mco_in >= mco_crit_3:\n",
    "        ff = 0\n",
    "    else:\n",
    "        if fb_model == 'Model A':\n",
    "            #print(mco_crit_NS1, mco_crit_NS2)\n",
    "            if (mco_in >= mco_crit_NS1) and (mco_in <= mco_crit_NS2):\n",
    "                ff = 1\n",
    "            else:\n",
    "                rand_number = random.uniform(0,1)\n",
    "                if rand_number <= 0.15:\n",
    "                    ff = 2\n",
    "                else:\n",
    "                    ff = 1\n",
    "        elif fb_model == 'Model B':\n",
    "            rand_number = random.uniform(0,1)\n",
    "            if rand_number <= 0.1:\n",
    "                ff = 2\n",
    "            else:\n",
    "                ff = 1\n",
    "        else:\n",
    "            print('Error in the fallback model assignment')\n",
    "                \n",
    "    return ff"
   ]
  },
  {
   "cell_type": "markdown",
   "metadata": {},
   "source": [
    "## 2. Examples\n",
    "Here are a few examples showing how to use the CCSN recipe to predict the CCSN outcomes for progenitors having different $M_\\mathrm{CO}$, $Z$ and mass transfer (MT) history."
   ]
  },
  {
   "cell_type": "code",
   "execution_count": 32,
   "metadata": {},
   "outputs": [
    {
     "data": {
      "text/plain": [
       "0"
      ]
     },
     "execution_count": 32,
     "metadata": {},
     "output_type": "execute_result"
    }
   ],
   "source": [
    "# a single-star, M_CO/Msun = 6.8, Z = 0.5 Zsun --> failed SN\n",
    "mco_in, z_in, MT_class  = 6.8, 0.5, 'None'\n",
    "\n",
    "ff_mco_z_fb(mco_in, z_in, MT_class, 'Model A') "
   ]
  },
  {
   "cell_type": "code",
   "execution_count": 33,
   "metadata": {},
   "outputs": [
    {
     "data": {
      "text/plain": [
       "1"
      ]
     },
     "execution_count": 33,
     "metadata": {},
     "output_type": "execute_result"
    }
   ],
   "source": [
    "# a single-star, M_CO/Msun = 9, Z = 0.3 Zsun --> successful SN\n",
    "mco_in, z_in, MT_class  = 9., 0.3, 'None'\n",
    "\n",
    "ff_mco_z_fb(mco_in, z_in, MT_class, 'Model A')"
   ]
  },
  {
   "cell_type": "code",
   "execution_count": 34,
   "metadata": {},
   "outputs": [
    {
     "data": {
      "text/plain": [
       "1"
      ]
     },
     "execution_count": 34,
     "metadata": {},
     "output_type": "execute_result"
    }
   ],
   "source": [
    "# a Case B binary-stripped star, M_CO/Msun = 11, Z = 1.1 Zsun --> successful SN\n",
    "mco_in, z_in, MT_class  = 11., 1.1, 'B'\n",
    "\n",
    "ff_mco_z_fb(mco_in, z_in, MT_class, 'Model A')"
   ]
  },
  {
   "cell_type": "code",
   "execution_count": 37,
   "metadata": {},
   "outputs": [
    {
     "data": {
      "text/plain": [
       "2"
      ]
     },
     "execution_count": 37,
     "metadata": {},
     "output_type": "execute_result"
    }
   ],
   "source": [
    "# Case B donor with parameters as above, but using Fallback Model B to predict the remnant type\n",
    "ff_mco_z_fb(mco_in, z_in, MT_class, 'Model B')"
   ]
  },
  {
   "cell_type": "markdown",
   "metadata": {},
   "source": [
    "## 3. Plots\n",
    "Plotting routine for predicting final fate landscapes in the $(M_\\mathrm{CO}, Z)$-plane for SN progenitors of each MT class."
   ]
  },
  {
   "cell_type": "code",
   "execution_count": 38,
   "metadata": {},
   "outputs": [],
   "source": [
    "def ff_plot(z_vals, mco_vals, MT_class, fb_model, ff_mco_z, title):\n",
    "\n",
    "    plt.figure()\n",
    "    plt.xlabel('$M_\\mathrm{CO}/M\\odot$', fontsize = 12)\n",
    "    plt.ylabel('$Z/Z_\\odot$', fontsize = 12)\n",
    "\n",
    "    for z in range(0, len(z_vals)):\n",
    "        for mco in range(0, len(mco_vals)):\n",
    "            if ff_mco_z_fb(mco_vals[mco], z_vals[z], MT_class, fb_model) == 0:\n",
    "                c = 'black'\n",
    "                ind_bh = mco, z\n",
    "            elif ff_mco_z_fb(mco_vals[mco], z_vals[z], MT_class, fb_model) == 1:\n",
    "                c = 'orange'\n",
    "                ind_sn = mco, z\n",
    "            else:\n",
    "                c = 'grey'  \n",
    "                ind_fb = mco, z\n",
    "            plt.scatter(mco_vals[mco], z_vals[z], color = c, s = 2)\n",
    "\n",
    "    plt.scatter(mco_vals[ind_bh[0]], z_vals[ind_bh[1]], color = 'black', s = 4, label = 'direct BH')\n",
    "    plt.scatter(mco_vals[ind_sn[0]], z_vals[ind_sn[1]], color = 'orange', s = 4, label = 'NS')\n",
    "    plt.scatter(mco_vals[ind_fb[0]], z_vals[ind_fb[1]], color = 'grey', s = 4, label = 'fallback BH')\n",
    "    plt.legend(loc='upper center', bbox_to_anchor=(0.5, 1.22), ncol=3, fancybox=True, shadow=True, fontsize = 12)\n",
    "    plt.title(title,fontsize = 13)\n",
    "    plt.savefig(title+'.png', dpi = 500, bbox_inches = 'tight')\n",
    "    plt.show()"
   ]
  },
  {
   "cell_type": "code",
   "execution_count": 41,
   "metadata": {},
   "outputs": [
    {
     "data": {
      "image/png": "[encoded data removed]",
      "text/plain": [
       "<Figure size 432x288 with 1 Axes>"
      ]
     },
     "metadata": {
      "needs_background": "light"
     },
     "output_type": "display_data"
    }
   ],
   "source": [
    "dz, dm = 0.05, 0.1 # sampling density in CO core mass and metallicity\n",
    "z_vals = np.arange(0.03, 1.2, dz) # ZAMS metallicity range \n",
    "mco_vals = np.arange(mco_min, mco_max, dm) # CO core mass range\n",
    "\n",
    "ff_plot(z_vals, mco_vals, 'None', 'Model A', ff_mco_z_fb, 'single stars')"
   ]
  },
  {
   "cell_type": "code",
   "execution_count": 42,
   "metadata": {},
   "outputs": [
    {
     "data": {
      "image/png": "[encoded data removed]",
      "text/plain": [
       "<Figure size 432x288 with 1 Axes>"
      ]
     },
     "metadata": {
      "needs_background": "light"
     },
     "output_type": "display_data"
    }
   ],
   "source": [
    "ff_plot(z_vals, mco_vals, 'C', 'Model A', ff_mco_z_fb, 'Case C donors')"
   ]
  },
  {
   "cell_type": "code",
   "execution_count": 43,
   "metadata": {},
   "outputs": [
    {
     "data": {
      "image/png": "[encoded data removed]",
      "text/plain": [
       "<Figure size 432x288 with 1 Axes>"
      ]
     },
     "metadata": {
      "needs_background": "light"
     },
     "output_type": "display_data"
    }
   ],
   "source": [
    "ff_plot(z_vals, mco_vals, 'B', 'Model A', ff_mco_z_fb, 'Case B donors')"
   ]
  },
  {
   "cell_type": "code",
   "execution_count": 44,
   "metadata": {},
   "outputs": [
    {
     "data": {
      "image/png": "[encoded data removed]",
      "text/plain": [
       "<Figure size 432x288 with 1 Axes>"
      ]
     },
     "metadata": {
      "needs_background": "light"
     },
     "output_type": "display_data"
    }
   ],
   "source": [
    "ff_plot(z_vals, mco_vals, 'A', 'Model A', ff_mco_z_fb, 'Case A donors')"
   ]
  },
  {
   "cell_type": "markdown",
   "metadata": {},
   "source": [
    "## 4. How does the CCSN recipe work?"
   ]
  },
  {
   "cell_type": "markdown",
   "metadata": {},
   "source": [
    "### threshold values in $M_\\mathrm{CO}$ for BH formation by direct collapse\n",
    "For $M_\\mathrm{CO} < M_\\mathrm{CO}^\\mathrm{min}$, only NSs form, regardless of MT history and $Z$. \n",
    "<br>For $M_\\mathrm{CO} > M_\\mathrm{CO}^\\mathrm{max}$, only direct collapse BHs form. \n",
    "<br>\n",
    "<br> For $M_\\mathrm{CO} \\in (M_\\mathrm{CO}^\\mathrm{min}, M_\\mathrm{CO}^\\mathrm{max})$, final fates and remnant types co-exist and are assigned given the critical values $M_\\mathrm{CO}$ that do depend on $Z$ and MT history class.\n",
    "\n",
    "The tables *mco_explodz* and *mco_explodz10* contain the carbon-oxygen (CO) core masses $M_\\mathrm{CO}^{(1)}$, $M_\\mathrm{CO}^{(2)}$ and $M_\\mathrm{CO}^{(3)}$ demarcating BH formation by direct collapse at two metallicities, $Z=Z_\\odot$ and $Z = Z_\\odot / 10$. These threshold masses differ among single stars, Case A, Case B or Case C binary-stripped stars. For a given $M_\\mathrm{CO}$ of a star, these critical values are used as follows to look up the star's final fate and remnant type.\n",
    "\n",
    "- $M_\\mathrm{CO} < M_\\mathrm{CO}^{(1)}$: successful supernova (SN) $\\rightarrow$ NS formation,\n",
    "- $M_\\mathrm{CO}^{(1)} \\leq M_\\mathrm{CO} \\leq M_\\mathrm{CO}^{(2)}$: failed SN $\\rightarrow$ direct BH formation,\n",
    "- $M_\\mathrm{CO}^{(2)} < M_\\mathrm{CO} < M_\\mathrm{CO}^{(3)}$: successful SN $\\rightarrow$ NS or fallback BH formation,\n",
    "- $M_\\mathrm{CO} \\geq M_\\mathrm{CO}^{(3)}$: failed SN $\\rightarrow$ direct BH formation.\n",
    "\n",
    "For $M_\\mathrm{CO} \\geq M_\\mathrm{CO}^{(3)}$, the plateau of direct BH formation outcomes is expected to extend up to the pair-instability mass gap."
   ]
  },
  {
   "cell_type": "markdown",
   "metadata": {},
   "source": [
    "### compact remnant left behind a successful SN:\n",
    "\n",
    "In the case of a successful SN, we distinguish between two remnant types: a NS and a fallback BH. According to our recipe, BH formation by fallback may occur for $M_\\mathrm{CO}^\\mathrm{(2)} < M_\\mathrm{CO}  < M_\\mathrm{CO}^\\mathrm{(3)}$, while for $M_\\mathrm{CO} < M_\\mathrm{CO}^{(1)}$ NS formation is guaranteed. We provide two different probabilistic fallback models (*Model A* and *Model B*), and suggest to use *Model A* as default. \n",
    "\n",
    "**Model A**: \n",
    "- if $M_\\mathrm{CO}^\\mathrm{(NS,1)} \\leq M_\\mathrm{CO} \\leq M_\\mathrm{CO}^\\mathrm{(NS, 2)}$: guaranteed NS formation. \n",
    "- if $M_\\mathrm{CO}^\\mathrm{(2)} < M_\\mathrm{CO}  < M_\\mathrm{CO}^\\mathrm{(3)}$ but $M_\\mathrm{CO} \\notin (M_\\mathrm{CO}^\\mathrm{(NS,1)}, M_\\mathrm{CO}^\\mathrm{(NS, 2)})$: fallback BH formation with probability $P = 0.15$, NS formation otherwise.\n",
    "\n",
    "The tables *mco_nsz* and *mco_nsz10* contain pairs ($M_\\mathrm{CO}^\\mathrm{NS, 1}$ and $M_\\mathrm{CO}^\\mathrm{NS, 2}$) of CO core mass values (at two metallicities $Z=Z_\\odot$ and $Z=Z_\\odot/10$, respectively), over which fallback BH formation is excluded and NS formation expected.\n",
    "\n",
    "**Model B**: \n",
    "<br> for $M_\\mathrm{CO}^\\mathrm{(2)} < M_\\mathrm{CO}  < M_\\mathrm{CO}^\\mathrm{(3)}$: fallback BH formation occurs with a uniform probability of 10\\%, regardless of MT history and $Z$."
   ]
  },
  {
   "cell_type": "markdown",
   "metadata": {},
   "source": [
    "### $Z$-dependence of BH formation boundaries in $M_\\mathrm{CO}$\n",
    "\n",
    "The threshold values $M_\\mathrm{CO}^{(i)}$ (for i=1,2,3), demarcating the transition from successful to failed SNe and vice versa, are calculated as follows for arbitrary $Z$. We assume a linear $\\log Z$ scaling of the boundaries $M_\\mathrm{CO}^{(i)}$, \n",
    "\n",
    "- $M_\\mathrm{CO}^\\mathrm{(i)}(Z) = b + \\log Z/Z_\\odot \\cdot m$\n",
    "\n",
    "when moving from $M_\\mathrm{CO}^{(i)}(Z_\\odot / 10)$ to $M_\\mathrm{CO}^{(i)}(Z_\\odot)$ with increasing $Z$. We use the same approach to scale the guaranteed NS formation windows, predicted by fallback *Model A*, with $Z$.\n",
    "\n",
    "The linear model $f(x) = b + m \\cdot x$ has two free parameters $b$ and $m$, and we use the data points $\\left( M_\\mathrm{CO}^{(i)}\\left(Z_\\odot \\right), Z_\\odot \\right)$ and $\\left( M_\\mathrm{CO}^{(i)}\\left(Z_\\odot \\right), Z_\\odot/10 \\right)$ to determine these analytically. These are given by \n",
    "- $m = a_1 - a_2$, $b = a_1$\n",
    "- where $(a_1, a_2) = (M_\\mathrm{CO}^\\mathrm{(i)}(Z_\\odot), M_\\mathrm{CO}^\\mathrm{(i)}(Z_\\odot/10))$ are the critical CO core mass values at $Z_\\odot$ and at $Z_\\odot/10$ that are given in the tables in solar mass units.\n",
    "\n",
    "The method *ff_mco_z_fb()* reads in the CO core mass $M_\\mathrm{CO}^\\mathrm{in}$, ZAMS metallicity $Z^\\mathrm{in}$ and MT history class of a test star. These are used to calculate the three fit parameter pairs $[(m_1, b_1), (m_2, b_2), (m_3, b_3)]$ of the $\\log Z$ model for the scaling of the three direct BH formation boundaries $M_\\mathrm{CO}^{(1)}, M_\\mathrm{CO}^{(2)}, M_\\mathrm{CO}^{(3)}$ with $Z$. A similar procedure is used to obtain the guarateed NS formation boundaries for fallback Model A. If $M_\\mathrm{CO}^\\mathrm{in}$ is in-between $M_\\mathrm{CO}^\\mathrm{(2)}(Z^\\mathrm{in})$ and $M_\\mathrm{CO}^\\mathrm{(3)}(Z^\\mathrm{in})$ but not contained within the guaranteed NS formation boundaries, a random number between 0 and 1 is drawn to assign the remnant type (NS or fallback BH) probabilistically. "
   ]
  },
  {
   "cell_type": "markdown",
   "metadata": {},
   "source": [
    "## 5. Practical remarks on application of the recipe\n",
    "\n",
    "### MT history class assignment"
   ]
  },
  {
   "cell_type": "markdown",
   "metadata": {},
   "source": [
    "**LBV**: \n",
    "<br> stars undergoing the luminous blue variable (LBV) phase of enhanced mass loss over a short (thermal or faster) timescale: we suggest to classify their explodability using the routines for Case B donors, rather than those for single stars.\n",
    "\n",
    "**Accretor stars**\n",
    "<br> Accretor stars that gain mass by stable mass transfer during the main sequence (MS) evolution: since they rejuvenate, their explodability can be approximated using the single star routines. This approximation breaks down for stars accreting mass during their post-MS evolution.\n",
    "\n",
    "**Repeated MT**\n",
    "<br> How about repeated MT episodes, such as Case AB, BC MT? Since the pre-SN properties of Case A and B progenitors are similar, whether MT class A or B is assigned to the star, does not substantially change the final CCSN outcome. The differences would be more apparent with Case BC MT. For such systems, we suggest to use the first MT episode for the classification, because Case C progenitors are closer to single stars, and the binary interaction effects are likely more adequately accounted for by the critical values we found for Case B donors. "
   ]
  },
  {
   "cell_type": "markdown",
   "metadata": {},
   "source": [
    "### Breakdown of the CCSN recipe\n",
    "\n",
    "The usage of the CCSN recipe for $Z < Z_\\odot/10$ and $Z > Z_\\odot$ is extrapolation. Over these regimes, the recipe  has not been compared with outcomes of detailed stellar evolution models.  It is therefore not known at which metallicty regime the CCSN recipe breaks down. As a consequence of the imposed parametric $\\log Z$ scaling law, the CCSN recipe not only predicts a smooth shift of the direct collapse windows in $M_\\mathrm{CO}$ toward larger (lower) values as $Z$ increases (decreases), but also changes in its width. For Case A donors, this leads to the prediction that the direct collapse window vanishes altogether at $Z/Z_\\odot$ close to 0.03, which is likely an artifact prediction. To cure this issue and remain more agnostic, a working assumption could be to use the recipe for extrapolation only down to $Z = Z_\\odot/20$. For lower metallicities, we suggest to keep the critical CO core masses (of single, Case A, B, C donor stars) constant, with their values given by the cut-off  at $Z = Z_\\odot/20$ (COMPAS assumptions)."
   ]
  },
  {
   "cell_type": "markdown",
   "metadata": {},
   "source": [
    "### Compact remnant and SN properties\n",
    "For the NS and BH masses, explosion energies, SN natal kick velocities, nucleosynthesis yields and other CCSN outcomes of interest, we suggest to use the default recipes that you currently have implemented or are implemented elsewhere. For example, to predict the **BH mass from direct collapse**, you could use Eq. (3) in [Mapelli et al. 2020](https://ui.adsabs.harvard.edu/abs/2020ApJ...888...76M/abstract).\n",
    "\n",
    "The **fallback BH remnant mass** determination is poorly constrained by 3D CCSN simulations and observations. In the context of rapid binary population synthesis with the COMPAS code, we assume that half of the mass outside the proto-NS falls back:\n",
    "<br> *mass of fallback BH* = *estimated baryonic NS mass* + *half of the ejecta mass*."
   ]
  },
  {
   "cell_type": "code",
   "execution_count": 1,
   "metadata": {},
   "outputs": [],
   "source": [
    "## acknowledgement: Kiril Maltsev"
   ]
  }
 ],
 "metadata": {
  "kernelspec": {
   "display_name": "Python 3",
   "language": "python",
   "name": "python3"
  },
  "language_info": {
   "codemirror_mode": {
    "name": "ipython",
    "version": 3
   },
   "file_extension": ".py",
   "mimetype": "text/x-python",
   "name": "python",
   "nbconvert_exporter": "python",
   "pygments_lexer": "ipython3",
   "version": "3.6.9"
  }
 },
 "nbformat": 4,
 "nbformat_minor": 2
}
