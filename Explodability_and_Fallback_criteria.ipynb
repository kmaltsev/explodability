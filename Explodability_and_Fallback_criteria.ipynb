{
 "cells": [
  {
   "cell_type": "markdown",
   "metadata": {},
   "source": [
    "## About\n",
    "This notebook entails the explodability criteria for the neutrino-driven supernova (SN) mechanism, which are introduced in [Maltsev et al. (submitted)](https://arxiv.org/). These address the progenitor problem: which SN progenitors will succeed and which will fail to explode? The criteria outlined here predict the final fate (*failed* or *successful SN*) and constrain the remnant type (*neutron star* or *fallback black hole*) left behind a successful SN explosion. To make these predictions, the following pre-SN stellar structure variables at the onset of iron-core infall are required:\n",
    "- the compactness parameter $\\xi_\\mathrm{2.5}$ (dimensionless),\n",
    "- the central specific entropy $s_c$ (in units of $[N_A \\cdot k_B]$),\n",
    "- the carbon-oxygen core mass $M_\\mathrm{CO}$ (in units of the solar mass $M_\\odot$),\n",
    "- the (dimensionless) Ertl parameters $M_4$ and $\\mu_4$\n",
    "\n",
    "In the output, the final fate is encoded as follows:\n",
    "- 0: *failed SN*\n",
    "- 1: *successful SN*\n",
    "\n",
    "In the case of a successful SN, there are prerequisites placed on pre-SN variables that need to be fulfilled for fallback BH formation to occur. If these are not fulfilled, fallback BH formation is excluded and NS formation predicted. If they are fulfilled, the remnant type remains unconstrained. The remnant type is thus encoded as\n",
    "- 2: *NS*\n",
    "- 3: *NS* or *fallback BH*."
   ]
  },
  {
   "cell_type": "markdown",
   "metadata": {},
   "source": [
    "## How does this explodability scheme work?\n",
    "Based on the [$\\xi_\\mathrm{2.5}$, $s_c$, $M_\\mathrm{CO}$, $M_4$, $\\mu_4$] input, it is checked\n",
    "\n",
    "1. first, whether $\\xi_\\mathrm{2.5}$, $s_c$ or $M_\\mathrm{CO}$ is above the upper threshold ($\\xi_\\mathrm{2.5}^\\mathrm{max}$, $s_c^\\mathrm{max}$, $M_\\mathrm{CO}^\\mathrm{max}$) for failed SNe, and\n",
    "\n",
    "2. second, whether any of these variables is below the lower threshold ($\\xi_\\mathrm{2.5}^\\mathrm{min}$, $s_c^\\mathrm{min}$, $M_\\mathrm{CO}^\\mathrm{min}$) for successful SNe.  \n",
    "\n",
    "For \n",
    "- $\\xi_\\mathrm{2.5}$, $s_c$ or $M_\\mathrm{CO}$ in the intermediate value range over which failed and successful SNe co-exist, and \n",
    "- in the rare case of conflicting final fate assignments based on 1. and 2., \n",
    "\n",
    "the final fate is decided based on the $\\mu_4$ and $M_4$ variables. In that case, it is first checked \n",
    "- if the product $\\mu_4 M_4$ is above (below) the upper (lower) threshold $(\\mu_4 M_4)^\\mathrm{max}$ $ \\left( (\\mu_4 M_4)^\\mathrm{min} \\right)$ for failed (successful) SNe.\n",
    "- If not, a separation line in the $(\\mu_4 M_4, \\mu_4)$- plane in the intermediate $\\mu_4 M_4$ value range segregates the final fate outcomes based on the reversed Ertl criterion for BH formation: $k_2 + k_1 \\cdot \\mu_4 M_4 - \\mu_4 > 0$.\n",
    "\n",
    "In the case of a successful SN, NS formation is predicted, if any of the following conditions is fulfilled:\n",
    "- $\\xi_\\mathrm{2.5} < 0.04$, or\n",
    "- $\\xi_\\mathrm{2.5} < 0.41$ and $\\xi_\\mathrm{2.5} < a \\cdot \\mu_4 M_4 + b$, or\n",
    "- $M_4/M_\\mathrm{CO} > 0.6$."
   ]
  },
  {
   "cell_type": "markdown",
   "metadata": {},
   "source": [
    "<ins>Table of Contents </ins>:\n",
    "1. Explodability and fallback criteria\n",
    "2. Examples\n",
    "3. Final fate segmentation plots\n",
    "4. Compact remnant type discrimination plots"
   ]
  },
  {
   "cell_type": "code",
   "execution_count": 26,
   "metadata": {},
   "outputs": [],
   "source": [
    "from matplotlib import pylab as plt\n",
    "import numpy as np"
   ]
  },
  {
   "cell_type": "markdown",
   "metadata": {},
   "source": [
    "## 1. Explodability and fallback criteria"
   ]
  },
  {
   "cell_type": "markdown",
   "metadata": {},
   "source": [
    "### lower and upper thresholds for failed and successful SNe:"
   ]
  },
  {
   "cell_type": "code",
   "execution_count": 3,
   "metadata": {},
   "outputs": [],
   "source": [
    "comp_crit1, comp_crit2 = 0.314, 0.544 # compactness\n",
    "sc_crit1, sc_crit2 = 0.988, 1.169 # central specific entropy\n",
    "mco_crit1, mco_crit2 = 5.6, 16.2 # carbon-oxygen core mass\n",
    "\n",
    "mu4M4_crit1, mu4M4_crit2 = 0.247, 0.421 # product of M4 and mu4"
   ]
  },
  {
   "cell_type": "code",
   "execution_count": 4,
   "metadata": {},
   "outputs": [],
   "source": [
    "## parameters of the separation line for the reversed Ertl+ 2016 criterion\n",
    "k1, k2 =  0.421, 0.005 "
   ]
  },
  {
   "cell_type": "markdown",
   "metadata": {},
   "source": [
    "### explodability criteria to determine the final fate:"
   ]
  },
  {
   "cell_type": "code",
   "execution_count": 5,
   "metadata": {},
   "outputs": [],
   "source": [
    "# explodability criteria (standard)\n",
    "def explod_crit(mco_val, comp_val, sc_val, mu4M4_val, mu4_val):\n",
    "    ff1, ff2 = [], []\n",
    "    unclassified = True\n",
    "    \n",
    "    # check whether any criterion for failed SN is fulfilled\n",
    "    if mco_val > mco_crit2 or comp_val > comp_crit2 or sc_val > sc_crit2:\n",
    "        ff2.append(0)\n",
    "        ff = 0\n",
    "        unclassified = False       \n",
    "\n",
    "    # check whether any criterion for successful SN is fulfilled\n",
    "    if mco_val < mco_crit1 or comp_val < comp_crit1 or sc_val < sc_crit1:\n",
    "        ff1.append(1)\n",
    "        ff = 1\n",
    "        unclassified = False\n",
    "    \n",
    "    # if there is contradiction or if the progenitor is unclassified based on comp, s_c, mco\n",
    "    if (len(ff1) > 0 and len(ff2) > 0) or unclassified:\n",
    "        \n",
    "        # final fate classification based on mu4M4\n",
    "        if mu4M4_val > mu4M4_crit2:\n",
    "            ff = 0\n",
    "        elif mu4M4_val < mu4M4_crit1:\n",
    "            ff = 1\n",
    "        # final fate classification based on reversed Ertl criterion\n",
    "        elif k2 + k1*mu4M4_val - mu4_val > 0:\n",
    "            ff = 0\n",
    "        else:\n",
    "            ff = 1\n",
    "    return ff"
   ]
  },
  {
   "cell_type": "markdown",
   "metadata": {},
   "source": [
    "### fallback criteria to constrain the remnant type:"
   ]
  },
  {
   "cell_type": "code",
   "execution_count": 6,
   "metadata": {},
   "outputs": [],
   "source": [
    "a, b = 1.75, -0.044\n",
    "\n",
    "def NS_vs_fallbackBH(comp_val, mco_val, M4_val, mu4M4_val):\n",
    "    if comp_val <= 0.04 or (comp_val < a*mu4M4_val + b and comp_val <= 0.41) or M4_val/mco_val > 0.6:\n",
    "        rem = 2\n",
    "    else:\n",
    "        rem = 3\n",
    "    return rem"
   ]
  },
  {
   "cell_type": "markdown",
   "metadata": {},
   "source": [
    "## 2. Examples:"
   ]
  },
  {
   "cell_type": "code",
   "execution_count": 7,
   "metadata": {},
   "outputs": [
    {
     "data": {
      "text/plain": [
       "1"
      ]
     },
     "execution_count": 7,
     "metadata": {},
     "output_type": "execute_result"
    }
   ],
   "source": [
    "# properties of a test progenitor\n",
    "mco_val, comp_val, sc_val, M4_val, mu4_val = 11, 0.28, 1.1, 1.8, 0.14\n",
    "\n",
    "# final fate prediction\n",
    "explod_crit(mco_val, comp_val, sc_val, M4_val*mu4_val, mu4_val)"
   ]
  },
  {
   "cell_type": "code",
   "execution_count": 9,
   "metadata": {},
   "outputs": [
    {
     "data": {
      "text/plain": [
       "2"
      ]
     },
     "execution_count": 9,
     "metadata": {},
     "output_type": "execute_result"
    }
   ],
   "source": [
    "# remnant type prediction\n",
    "NS_vs_fallbackBH(comp_val, mco_val, M4_val, mu4_val*M4_val)"
   ]
  },
  {
   "cell_type": "code",
   "execution_count": 22,
   "metadata": {},
   "outputs": [],
   "source": [
    "# properties of the SN progenitors the Garching group (shown in the plots below)\n",
    "\n",
    "# ... exploding\n",
    "comp_expl = [0.00004, 0.00008, 0.03167, 0.10602, 0.28335, 0.28462]\n",
    "sc_expl = [0.532, 0.888, 0.607, 0.678, 0.865, 0.855]\n",
    "mu4M4_expl = [0.00002, 0.00003, 0.06083, 0.07280, 0.19950, 0.20055]\n",
    "mu4_expl = [0.00002, 0.00002, 0.03916, 0.04634, 0.10973, 0.11020]\n",
    "mco_expl = [1.4, 1.37, 2.23, 3.24, 4.45, 4.98]\n",
    "M4 = np.array(mu4M4_expl)/np.array(mu4_expl)\n",
    "\n",
    "# ... non-exploding\n",
    "comp_impl = [0.54399, 0.88157]\n",
    "sc_impl = [1.051, 1.526]\n",
    "mu4M4_impl = [0.46985, 0.79337]\n",
    "mu4_impl = [0.20723, 0.32145]\n",
    "mco_impl = [13.59, 31.16]"
   ]
  },
  {
   "cell_type": "markdown",
   "metadata": {},
   "source": [
    "## 3. Final fate segmentation plots"
   ]
  },
  {
   "cell_type": "markdown",
   "metadata": {},
   "source": [
    "### final fate classification in the ($\\xi_\\mathrm{2.5}, s_c$)-plane:"
   ]
  },
  {
   "cell_type": "code",
   "execution_count": 33,
   "metadata": {},
   "outputs": [
    {
     "data": {
      "text/plain": [
       "<matplotlib.collections.PathCollection at 0x7ff597897470>"
      ]
     },
     "execution_count": 33,
     "metadata": {},
     "output_type": "execute_result"
    },
    {
     "data": {
      "image/png": "[encoded data removed]",
      "text/plain": [
       "<Figure size 432x288 with 1 Axes>"
      ]
     },
     "metadata": {
      "needs_background": "light"
     },
     "output_type": "display_data"
    }
   ],
   "source": [
    "plt.figure()\n",
    "\n",
    "# demarcation lines\n",
    "plt.plot([comp_crit1, comp_crit1], [0.5, 2], color = 'red', linestyle = '--')\n",
    "plt.plot([comp_crit2, comp_crit2], [0.5, 2], color = 'red', linestyle = '--')\n",
    "plt.plot([0, 1], [sc_crit1, sc_crit1], color = 'red', linestyle = '--')\n",
    "plt.plot([0, 1], [sc_crit2, sc_crit2], color = 'red', linestyle = '--')\n",
    "\n",
    "# background shadings for the final fate classification\n",
    "plt.fill_betweenx([0.5, sc_crit1], [comp_crit1, comp_crit1] , [comp_crit2, comp_crit2], color = \"yellow\", alpha = 0.4)\n",
    "plt.fill_between([0.0, comp_crit1], [0.5, 0.5] , [sc_crit2, sc_crit2], color = \"yellow\", alpha = 0.4, label = 'explosion')\n",
    "\n",
    "plt.fill_betweenx([sc_crit2, 2.], [comp_crit1, comp_crit1] , [1, 1], color = \"brown\", alpha = 0.4)\n",
    "plt.fill_between([comp_crit2, 1], [sc_crit1, sc_crit1], [sc_crit2, sc_crit2] , color = \"brown\", alpha = 0.4, label = 'implosion')\n",
    "\n",
    "# label & legend\n",
    "plt.xlabel(r'$\\xi_\\mathrm{2.5}$', fontsize = 14)\n",
    "plt.ylabel(r'$s_c / (k_B \\cdot N_A)$', fontsize = 14)\n",
    "plt.legend(loc='upper center', bbox_to_anchor=(0.5, 1.22), ncol=2, fancybox=True, shadow=True, fontsize = 12)\n",
    "\n",
    "# progenitor examples\n",
    "plt.scatter(comp_val, sc_val, s = 20)\n",
    "plt.scatter(comp_expl, sc_expl, s = 20, color = 'orange')\n",
    "plt.scatter(comp_impl, sc_impl, s = 20, color = 'black')\n"
   ]
  },
  {
   "cell_type": "markdown",
   "metadata": {},
   "source": [
    "### final fate classification in the ($\\mu_4M_4, \\mu_4$)-plane:"
   ]
  },
  {
   "cell_type": "code",
   "execution_count": 29,
   "metadata": {},
   "outputs": [],
   "source": [
    "def lin(a1, a2, x):\n",
    "    return a2 + a1*x\n",
    "\n",
    "mu4_crit1, mu4_crit2 = 0.108, 0.193"
   ]
  },
  {
   "cell_type": "code",
   "execution_count": 73,
   "metadata": {},
   "outputs": [
    {
     "data": {
      "text/plain": [
       "<matplotlib.collections.PathCollection at 0x7ff59672beb8>"
      ]
     },
     "execution_count": 73,
     "metadata": {},
     "output_type": "execute_result"
    },
    {
     "data": {
      "image/png": "[encoded data removed]",
      "text/plain": [
       "<Figure size 432x288 with 1 Axes>"
      ]
     },
     "metadata": {
      "needs_background": "light"
     },
     "output_type": "display_data"
    }
   ],
   "source": [
    "plt.figure()\n",
    "\n",
    "# demarcation lines\n",
    "plt.plot([0., 1.55], [mu4_crit1, mu4_crit1], color = 'red', linestyle = '--')\n",
    "plt.plot([0., 1.55], [mu4_crit2, mu4_crit2], color = 'red', linestyle = '--')\n",
    "plt.plot([mu4M4_crit1, mu4M4_crit1], [0., 0.5], color = 'red', linestyle = '--')\n",
    "plt.plot([mu4M4_crit2, mu4M4_crit2], [0., 0.5], color = 'red', linestyle = '--')\n",
    "\n",
    "# final fate classification in the (mu4M4, mu4)-plane\n",
    "mu4M4_arr = np.arange(mu4M4_crit1, mu4M4_crit2+0.002, 0.002)\n",
    "plt.plot(mu4M4_arr, lin(k1,k2, mu4M4_arr), color = 'magenta', label = 'reversed Ertl criterion')\n",
    "\n",
    "# background shadings for the final fate classification\n",
    "plt.fill_betweenx([0, 0.5], [0, 0], [mu4M4_crit1, mu4M4_crit1], color = 'yellow', alpha = 0.4, label = 'explosion' )\n",
    "plt.fill_betweenx([0, 0.5], [mu4M4_crit2, mu4M4_crit2], [1.55, 1.55], color = 'brown', alpha = 0.4, label = 'implosion')\n",
    "plt.fill_between(mu4M4_arr, 0.5, lin(k1,k2, mu4M4_arr), color = \"yellow\", alpha = 0.4)\n",
    "plt.fill_between(mu4M4_arr, 0., lin(k1,k2, mu4M4_arr), color = \"brown\", alpha = 0.4)\n",
    "\n",
    "# label & legend\n",
    "plt.xlabel(r'$\\mu_4M_4$', fontsize = 14)\n",
    "plt.ylabel(r'$\\mu_4$', fontsize = 14)\n",
    "\n",
    "plt.legend(loc='upper center', bbox_to_anchor=(0.5, 1.22), ncol=3, fancybox=True, shadow=True, fontsize = 12)\n",
    "\n",
    "# progenitor examples\n",
    "plt.scatter(mu4_val*M4_val, mu4_val, s = 20)\n",
    "plt.scatter(mu4M4_expl, mu4_expl, s = 20, color = 'orange')\n",
    "plt.scatter(mu4M4_impl, mu4_impl, s = 20, color = 'black')"
   ]
  },
  {
   "cell_type": "markdown",
   "metadata": {},
   "source": [
    "## 4. Compact remnant type discrimination plots"
   ]
  },
  {
   "cell_type": "markdown",
   "metadata": {},
   "source": [
    "### remnant type constraints based on  $(M_4/M_\\mathrm{CO})$-ratio:"
   ]
  },
  {
   "cell_type": "code",
   "execution_count": 52,
   "metadata": {},
   "outputs": [
    {
     "data": {
      "text/plain": [
       "<matplotlib.collections.PathCollection at 0x7ff5970e2cc0>"
      ]
     },
     "execution_count": 52,
     "metadata": {},
     "output_type": "execute_result"
    },
    {
     "data": {
      "image/png": "[encoded data removed]",
      "text/plain": [
       "<Figure size 432x288 with 1 Axes>"
      ]
     },
     "metadata": {
      "needs_background": "light"
     },
     "output_type": "display_data"
    }
   ],
   "source": [
    "plt.figure()\n",
    "\n",
    "# demarcation line\n",
    "plt.plot([np.amin(M4)-0.1, np.amax(M4)+0.1], [0.6, 0.6], color = 'red', linestyle = '--')\n",
    "\n",
    "# background shadings for the final fate classification\n",
    "plt.fill_between( [np.amin(M4)-0.1, np.amax(M4)+0.1], [np.amin(M4/mco_expl)-0.3,np.amin(M4/mco_expl)-0.3], [0.6, 0.6], alpha = 0.4, color = 'grey', label = \"NS / fallback BH\" )\n",
    "plt.fill_between( [np.amin(M4)-0.1, np.amax(M4)+0.1], [0.6, 0.6], [np.amax(M4/mco_expl)+0.1,np.amax(M4/mco_expl)+0.1], alpha = 0.4, color = 'blue', label = \"NS\" )\n",
    "\n",
    "plt.legend(loc='upper center', bbox_to_anchor=(0.5, 1.22), ncol=3, fancybox=True, shadow=True, fontsize = 12)\n",
    "plt.xlabel(r'$M_4/M_\\odot$', fontsize = 14)\n",
    "plt.ylabel(r'$M_4/M_\\mathrm{CO}$', fontsize = 14)\n",
    "\n",
    "# progenitor examples\n",
    "plt.scatter(M4_val, M4_val/mco_val, s = 20, color = 'cyan')\n",
    "plt.scatter(M4, M4/mco_expl, s = 20, color = 'orange')"
   ]
  },
  {
   "cell_type": "markdown",
   "metadata": {},
   "source": [
    "### remnant type constraints in the $(\\mu_4M_4,\\xi_{2.5})$-plane:"
   ]
  },
  {
   "cell_type": "code",
   "execution_count": 75,
   "metadata": {},
   "outputs": [
    {
     "data": {
      "text/plain": [
       "<matplotlib.collections.PathCollection at 0x7ff5965f8780>"
      ]
     },
     "execution_count": 75,
     "metadata": {},
     "output_type": "execute_result"
    },
    {
     "data": {
      "image/png": "[encoded data removed]",
      "text/plain": [
       "<Figure size 432x288 with 1 Axes>"
      ]
     },
     "metadata": {
      "needs_background": "light"
     },
     "output_type": "display_data"
    }
   ],
   "source": [
    "mu4M4_arr = np.linspace(0.05, 0.26, 50)\n",
    "mu4M42 = np.linspace(0, 0.4, 50)\n",
    "\n",
    "# demarcation lines\n",
    "plt.plot(mu4M4_arr, mu4M4_arr*a + b, color = 'red', linestyle = '--')\n",
    "plt.plot(mu4M42, np.ones_like(mu4M42)*0.41, color = 'red', linestyle = '--')\n",
    "plt.plot(mu4M42, np.ones_like(mu4M42)*0.04, color = 'red', linestyle = '--')\n",
    "\n",
    "# BACKGROUND COLORING\n",
    "\n",
    "# regions mapped out by separation line\n",
    "plt.fill_betweenx(mu4M4_arr*a + b, np.zeros_like(mu4M4_arr), mu4M4_arr, alpha = 0.4, color = \"grey\", label = \"NS / fallback BH\"  )\n",
    "plt.fill_betweenx(mu4M4_arr*a + b, mu4M4_arr, np.ones_like(mu4M4_arr)*0.4, alpha = 0.4, color = \"blue\", label = \"NS\")\n",
    "\n",
    "# NS / fallback BH formation above compactness threshold\n",
    "comp_arr2 = np.linspace(0.41, 0.544, 10)\n",
    "plt.fill_betweenx(comp_arr2, np.zeros_like(comp_arr2), np.ones_like(comp_arr2)*0.4, color = \"grey\", alpha = 0.4)\n",
    "\n",
    "# NS formation below compactness threshold\n",
    "comp_arr3 = np.linspace(0., 0.04, 10)\n",
    "plt.fill_betweenx(comp_arr3, np.zeros_like(comp_arr3), np.ones_like(comp_arr3)*0.4, color = \"blue\", alpha = 0.4)\n",
    "\n",
    "# legend and plot\n",
    "plt.ylabel(r'$\\xi_\\mathrm{2.5}$', fontsize = 14)\n",
    "plt.xlabel(r'$\\mu_4M_4$', fontsize = 14)\n",
    "plt.legend(loc='upper center', bbox_to_anchor=(0.5, 1.22), ncol=3, fancybox=True, shadow=True, fontsize = 12)\n",
    "\n",
    "# progenitor examples\n",
    "plt.scatter(mu4M4_expl, comp_expl, s = 20, color = 'orange')\n",
    "plt.scatter(M4_val*mu4_val, comp_val, s = 20, color = 'cyan')"
   ]
  },
  {
   "cell_type": "code",
   "execution_count": 70,
   "metadata": {},
   "outputs": [],
   "source": [
    "# Acknowledgement: Kiril Maltsev"
   ]
  }
 ],
 "metadata": {
  "kernelspec": {
   "display_name": "Python 3",
   "language": "python",
   "name": "python3"
  },
  "language_info": {
   "codemirror_mode": {
    "name": "ipython",
    "version": 3
   },
   "file_extension": ".py",
   "mimetype": "text/x-python",
   "name": "python",
   "nbconvert_exporter": "python",
   "pygments_lexer": "ipython3",
   "version": "3.6.9"
  }
 },
 "nbformat": 4,
 "nbformat_minor": 2
}
